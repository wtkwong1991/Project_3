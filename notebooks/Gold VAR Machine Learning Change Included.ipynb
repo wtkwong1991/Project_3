{
 "cells": [
  {
   "cell_type": "code",
   "execution_count": 1,
   "metadata": {},
   "outputs": [],
   "source": [
    "import pandas as pd\n",
    "from itertools import combinations\n",
    "from statsmodels.tsa.vector_ar.vecm import coint_johansen\n",
    "from statsmodels.tsa.api import VAR\n",
    "# from statsmodels.tsa.vector_ar.var_model import VAR\n",
    "from sklearn.preprocessing import MinMaxScaler\n",
    "from sklearn.metrics import mean_squared_error\n",
    "from math import sqrt\n",
    "from datetime import timedelta"
   ]
  },
  {
   "cell_type": "code",
   "execution_count": 2,
   "metadata": {},
   "outputs": [],
   "source": [
    "df = pd.read_csv(\"../data/csv/Gold_Data.csv\",index_col=\"Business_Week\")\n",
    "# print(len(df.columns),len(df.index))"
   ]
  },
  {
   "cell_type": "code",
   "execution_count": 3,
   "metadata": {
    "scrolled": false
   },
   "outputs": [],
   "source": [
    "# df = df.drop(df.columns[0],axis=1)\n",
    "# df = df.drop(df.columns[7],axis=1)\n",
    "# df = df.dropna(axis=1)\n",
    "df = df.dropna()\n",
    "# print(len(df.columns),len(df.index))"
   ]
  },
  {
   "cell_type": "code",
   "execution_count": 4,
   "metadata": {},
   "outputs": [],
   "source": [
    "# df.iloc[25:30]"
   ]
  },
  {
   "cell_type": "code",
   "execution_count": 5,
   "metadata": {},
   "outputs": [],
   "source": [
    "# Freq is very important, specifies when and how often data is taken.\n",
    "# VAR will not work without., in terms of specifying linear time for input.\n",
    "df[\"Date\"] = pd.to_datetime(df[\"Date\"],infer_datetime_format=True)\n",
    "df = df.reset_index(drop=True)\n",
    "for i in range(len(df[\"Date\"])):\n",
    "    if df[\"Date\"][i].weekday() != 1:\n",
    "#         print(df[\"Date\"][i])\n",
    "        try:\n",
    "            df.at[i,\"Date\"] = df[\"Date\"][i-1]+timedelta(days=7)\n",
    "#             print(df[\"Date\"][i])\n",
    "#             print(df[\"Date\"][i].weekday())\n",
    "        except:\n",
    "            df.at[i,\"Date\"] = df[\"Date\"][i+1]-timedelta(days=7)\n",
    "# print(df.iloc[29,:])\n",
    "df.set_index(\"Date\",inplace=True)\n",
    "df = df.asfreq(\"W-TUE\")"
   ]
  },
  {
   "cell_type": "code",
   "execution_count": 13,
   "metadata": {},
   "outputs": [],
   "source": [
    "df = df.dropna()\n",
    "# len(df.index)"
   ]
  },
  {
   "cell_type": "code",
   "execution_count": 7,
   "metadata": {},
   "outputs": [
    {
     "data": {
      "text/plain": [
       "23"
      ]
     },
     "execution_count": 7,
     "metadata": {},
     "output_type": "execute_result"
    }
   ],
   "source": [
    "len(list(df.columns))"
   ]
  },
  {
   "cell_type": "code",
   "execution_count": 8,
   "metadata": {},
   "outputs": [],
   "source": [
    "check_columns = list(df.columns)\n",
    "check_columns.remove(\"Gold_Settle\")"
   ]
  },
  {
   "cell_type": "code",
   "execution_count": 9,
   "metadata": {},
   "outputs": [],
   "source": [
    "test_columns = [list(combination) for combination in combinations(check_columns,12)]\n",
    "test_results = [coint_johansen(df[combination],-1,1) for combination in test_columns]"
   ]
  },
  {
   "cell_type": "code",
   "execution_count": 11,
   "metadata": {},
   "outputs": [],
   "source": [
    "# len(test_results[12].evec)"
   ]
  },
  {
   "cell_type": "code",
   "execution_count": 12,
   "metadata": {
    "scrolled": true
   },
   "outputs": [],
   "source": [
    "# test_results[12].lr1"
   ]
  },
  {
   "cell_type": "code",
   "execution_count": 13,
   "metadata": {
    "scrolled": true
   },
   "outputs": [],
   "source": [
    "# test_results[12].cvt"
   ]
  },
  {
   "cell_type": "code",
   "execution_count": 10,
   "metadata": {},
   "outputs": [],
   "source": [
    "cointegration_ranking = [sum([1 if result.lr1[i] >= result.cvt[i][2] else 0 for i in range(12)]) for result in test_results]"
   ]
  },
  {
   "cell_type": "code",
   "execution_count": 11,
   "metadata": {
    "scrolled": true
   },
   "outputs": [],
   "source": [
    "# Will break if all 12 features tested have cointegration, this is real unlikely though.\n",
    "highest_coint_rank = max(cointegration_ranking)\n",
    "# print(highest_coint_rank)\n",
    "coint_info_index = cointegration_ranking.index(highest_coint_rank)\n",
    "coint_vectors = [test_columns[coint_info_index].copy(),list(test_results[coint_info_index].evec[highest_coint_rank])]\n",
    "for i in range(highest_coint_rank+1,12):\n",
    "    coint_vectors[0].pop(i)\n",
    "    coint_vectors[1].pop(i)"
   ]
  },
  {
   "cell_type": "code",
   "execution_count": 23,
   "metadata": {},
   "outputs": [
    {
     "data": {
      "text/plain": [
       "array([0.58614936, 0.49468256, 0.47595059, 0.41830721, 0.33463355,\n",
       "       0.2919888 , 0.2032198 , 0.18628807, 0.15566185, 0.12072655,\n",
       "       0.11254034, 0.00431322])"
      ]
     },
     "execution_count": 23,
     "metadata": {},
     "output_type": "execute_result"
    }
   ],
   "source": [
    "test_results[coint_info_index].eig"
   ]
  },
  {
   "cell_type": "code",
   "execution_count": 12,
   "metadata": {},
   "outputs": [],
   "source": [
    "modulated_series = [df[coint_vectors[0][i]]*coint_vectors[1][i] for i in range(highest_coint_rank+1)]"
   ]
  },
  {
   "cell_type": "code",
   "execution_count": 13,
   "metadata": {},
   "outputs": [],
   "source": [
    "stationary_series = modulated_series.pop(0)\n",
    "for series in modulated_series:\n",
    "    stationary_series += series"
   ]
  },
  {
   "cell_type": "code",
   "execution_count": 14,
   "metadata": {},
   "outputs": [],
   "source": [
    "df[\"Stationary_Conglomerate\"] = stationary_series"
   ]
  },
  {
   "cell_type": "code",
   "execution_count": 15,
   "metadata": {},
   "outputs": [],
   "source": [
    "df.drop(coint_vectors[0],axis=1,inplace=True)"
   ]
  },
  {
   "cell_type": "code",
   "execution_count": 16,
   "metadata": {},
   "outputs": [
    {
     "data": {
      "text/html": [
       "<div>\n",
       "<style scoped>\n",
       "    .dataframe tbody tr th:only-of-type {\n",
       "        vertical-align: middle;\n",
       "    }\n",
       "\n",
       "    .dataframe tbody tr th {\n",
       "        vertical-align: top;\n",
       "    }\n",
       "\n",
       "    .dataframe thead th {\n",
       "        text-align: right;\n",
       "    }\n",
       "</style>\n",
       "<table border=\"1\" class=\"dataframe\">\n",
       "  <thead>\n",
       "    <tr style=\"text-align: right;\">\n",
       "      <th></th>\n",
       "      <th>Gold_Settle</th>\n",
       "      <th>Producer/Merchant/Processor/User Longs</th>\n",
       "      <th>Producer/Merchant/Processor/User Shorts</th>\n",
       "      <th>Ten_Yr_Futures_Settle</th>\n",
       "      <th>Ten_Yr_Futures_Prev. Day Open Interest</th>\n",
       "      <th>USD_Settle</th>\n",
       "      <th>USD_Volume</th>\n",
       "      <th>USD_Prev. Day Open Interest</th>\n",
       "      <th>ZAR_Volume</th>\n",
       "      <th>ZAR_Wave</th>\n",
       "      <th>ZAR_Prev. Day Open Interest</th>\n",
       "      <th>Stationary_Conglomerate</th>\n",
       "    </tr>\n",
       "    <tr>\n",
       "      <th>Date</th>\n",
       "      <th></th>\n",
       "      <th></th>\n",
       "      <th></th>\n",
       "      <th></th>\n",
       "      <th></th>\n",
       "      <th></th>\n",
       "      <th></th>\n",
       "      <th></th>\n",
       "      <th></th>\n",
       "      <th></th>\n",
       "      <th></th>\n",
       "      <th></th>\n",
       "    </tr>\n",
       "  </thead>\n",
       "  <tbody>\n",
       "    <tr>\n",
       "      <th>2019-03-12</th>\n",
       "      <td>1290.16</td>\n",
       "      <td>43255.0</td>\n",
       "      <td>105756.0</td>\n",
       "      <td>122.378125</td>\n",
       "      <td>3825284.6</td>\n",
       "      <td>97.1538</td>\n",
       "      <td>22297.0</td>\n",
       "      <td>57772.0</td>\n",
       "      <td>25.8</td>\n",
       "      <td>14.368210</td>\n",
       "      <td>66.750000</td>\n",
       "      <td>-229711.443535</td>\n",
       "    </tr>\n",
       "    <tr>\n",
       "      <th>2019-03-19</th>\n",
       "      <td>1301.60</td>\n",
       "      <td>51053.0</td>\n",
       "      <td>118282.0</td>\n",
       "      <td>122.568750</td>\n",
       "      <td>3885013.6</td>\n",
       "      <td>96.3370</td>\n",
       "      <td>14723.6</td>\n",
       "      <td>52886.2</td>\n",
       "      <td>20.4</td>\n",
       "      <td>14.495198</td>\n",
       "      <td>106.000000</td>\n",
       "      <td>-235144.483403</td>\n",
       "    </tr>\n",
       "    <tr>\n",
       "      <th>2019-06-04</th>\n",
       "      <td>1303.92</td>\n",
       "      <td>41139.0</td>\n",
       "      <td>124446.0</td>\n",
       "      <td>126.234375</td>\n",
       "      <td>4184701.6</td>\n",
       "      <td>97.5626</td>\n",
       "      <td>18806.4</td>\n",
       "      <td>49452.4</td>\n",
       "      <td>11.8</td>\n",
       "      <td>14.652196</td>\n",
       "      <td>109.250000</td>\n",
       "      <td>188283.148924</td>\n",
       "    </tr>\n",
       "    <tr>\n",
       "      <th>2019-06-11</th>\n",
       "      <td>1331.64</td>\n",
       "      <td>46038.0</td>\n",
       "      <td>136187.0</td>\n",
       "      <td>126.603125</td>\n",
       "      <td>3965213.6</td>\n",
       "      <td>96.8188</td>\n",
       "      <td>25410.2</td>\n",
       "      <td>44996.2</td>\n",
       "      <td>12.0</td>\n",
       "      <td>14.895546</td>\n",
       "      <td>103.200000</td>\n",
       "      <td>-222303.419248</td>\n",
       "    </tr>\n",
       "    <tr>\n",
       "      <th>2019-06-18</th>\n",
       "      <td>1339.30</td>\n",
       "      <td>52208.0</td>\n",
       "      <td>151171.0</td>\n",
       "      <td>126.937500</td>\n",
       "      <td>3940941.0</td>\n",
       "      <td>97.1488</td>\n",
       "      <td>20748.8</td>\n",
       "      <td>47139.4</td>\n",
       "      <td>9.5</td>\n",
       "      <td>14.848470</td>\n",
       "      <td>132.666667</td>\n",
       "      <td>-259882.785614</td>\n",
       "    </tr>\n",
       "  </tbody>\n",
       "</table>\n",
       "</div>"
      ],
      "text/plain": [
       "            Gold_Settle  Producer/Merchant/Processor/User Longs  \\\n",
       "Date                                                              \n",
       "2019-03-12      1290.16                                 43255.0   \n",
       "2019-03-19      1301.60                                 51053.0   \n",
       "2019-06-04      1303.92                                 41139.0   \n",
       "2019-06-11      1331.64                                 46038.0   \n",
       "2019-06-18      1339.30                                 52208.0   \n",
       "\n",
       "            Producer/Merchant/Processor/User Shorts  Ten_Yr_Futures_Settle  \\\n",
       "Date                                                                         \n",
       "2019-03-12                                 105756.0             122.378125   \n",
       "2019-03-19                                 118282.0             122.568750   \n",
       "2019-06-04                                 124446.0             126.234375   \n",
       "2019-06-11                                 136187.0             126.603125   \n",
       "2019-06-18                                 151171.0             126.937500   \n",
       "\n",
       "            Ten_Yr_Futures_Prev. Day Open Interest  USD_Settle  USD_Volume  \\\n",
       "Date                                                                         \n",
       "2019-03-12                               3825284.6     97.1538     22297.0   \n",
       "2019-03-19                               3885013.6     96.3370     14723.6   \n",
       "2019-06-04                               4184701.6     97.5626     18806.4   \n",
       "2019-06-11                               3965213.6     96.8188     25410.2   \n",
       "2019-06-18                               3940941.0     97.1488     20748.8   \n",
       "\n",
       "            USD_Prev. Day Open Interest  ZAR_Volume   ZAR_Wave  \\\n",
       "Date                                                             \n",
       "2019-03-12                      57772.0        25.8  14.368210   \n",
       "2019-03-19                      52886.2        20.4  14.495198   \n",
       "2019-06-04                      49452.4        11.8  14.652196   \n",
       "2019-06-11                      44996.2        12.0  14.895546   \n",
       "2019-06-18                      47139.4         9.5  14.848470   \n",
       "\n",
       "            ZAR_Prev. Day Open Interest  Stationary_Conglomerate  \n",
       "Date                                                              \n",
       "2019-03-12                    66.750000           -229711.443535  \n",
       "2019-03-19                   106.000000           -235144.483403  \n",
       "2019-06-04                   109.250000            188283.148924  \n",
       "2019-06-11                   103.200000           -222303.419248  \n",
       "2019-06-18                   132.666667           -259882.785614  "
      ]
     },
     "execution_count": 16,
     "metadata": {},
     "output_type": "execute_result"
    }
   ],
   "source": [
    "df.tail()"
   ]
  },
  {
   "cell_type": "code",
   "execution_count": 14,
   "metadata": {},
   "outputs": [],
   "source": [
    "scaler = MinMaxScaler()"
   ]
  },
  {
   "cell_type": "code",
   "execution_count": 15,
   "metadata": {},
   "outputs": [
    {
     "data": {
      "text/html": [
       "<div>\n",
       "<style scoped>\n",
       "    .dataframe tbody tr th:only-of-type {\n",
       "        vertical-align: middle;\n",
       "    }\n",
       "\n",
       "    .dataframe tbody tr th {\n",
       "        vertical-align: top;\n",
       "    }\n",
       "\n",
       "    .dataframe thead th {\n",
       "        text-align: right;\n",
       "    }\n",
       "</style>\n",
       "<table border=\"1\" class=\"dataframe\">\n",
       "  <thead>\n",
       "    <tr style=\"text-align: right;\">\n",
       "      <th></th>\n",
       "      <th>Gold_Change</th>\n",
       "      <th>Gold_Settle</th>\n",
       "      <th>Gold_Volume</th>\n",
       "      <th>Gold_Prev. Day Open Interest</th>\n",
       "      <th>Open Interest</th>\n",
       "      <th>Money Manager Shorts</th>\n",
       "      <th>Money Manager Longs</th>\n",
       "      <th>Producer/Merchant/Processor/User Longs</th>\n",
       "      <th>Producer/Merchant/Processor/User Shorts</th>\n",
       "      <th>Ten_Yr_Futures_Change</th>\n",
       "      <th>...</th>\n",
       "      <th>USD_Change</th>\n",
       "      <th>USD_Settle</th>\n",
       "      <th>USD_Volume</th>\n",
       "      <th>USD_Wave</th>\n",
       "      <th>USD_Prev. Day Open Interest</th>\n",
       "      <th>ZAR_Change</th>\n",
       "      <th>ZAR_Settle</th>\n",
       "      <th>ZAR_Volume</th>\n",
       "      <th>ZAR_Wave</th>\n",
       "      <th>ZAR_Prev. Day Open Interest</th>\n",
       "    </tr>\n",
       "    <tr>\n",
       "      <th>Date</th>\n",
       "      <th></th>\n",
       "      <th></th>\n",
       "      <th></th>\n",
       "      <th></th>\n",
       "      <th></th>\n",
       "      <th></th>\n",
       "      <th></th>\n",
       "      <th></th>\n",
       "      <th></th>\n",
       "      <th></th>\n",
       "      <th></th>\n",
       "      <th></th>\n",
       "      <th></th>\n",
       "      <th></th>\n",
       "      <th></th>\n",
       "      <th></th>\n",
       "      <th></th>\n",
       "      <th></th>\n",
       "      <th></th>\n",
       "      <th></th>\n",
       "      <th></th>\n",
       "    </tr>\n",
       "  </thead>\n",
       "  <tbody>\n",
       "    <tr>\n",
       "      <th>2014-03-25</th>\n",
       "      <td>0.678899</td>\n",
       "      <td>0.950871</td>\n",
       "      <td>0.000122</td>\n",
       "      <td>0.273350</td>\n",
       "      <td>0.431356</td>\n",
       "      <td>0.041291</td>\n",
       "      <td>0.236660</td>\n",
       "      <td>1.000000</td>\n",
       "      <td>0.238649</td>\n",
       "      <td>0.321637</td>\n",
       "      <td>...</td>\n",
       "      <td>0.535496</td>\n",
       "      <td>0.023244</td>\n",
       "      <td>0.165185</td>\n",
       "      <td>0.002060</td>\n",
       "      <td>0.162933</td>\n",
       "      <td>0.464323</td>\n",
       "      <td>0.315043</td>\n",
       "      <td>0.019839</td>\n",
       "      <td>0.000000</td>\n",
       "      <td>0.205162</td>\n",
       "    </tr>\n",
       "    <tr>\n",
       "      <th>2014-04-01</th>\n",
       "      <td>0.322412</td>\n",
       "      <td>0.820158</td>\n",
       "      <td>0.118549</td>\n",
       "      <td>0.090347</td>\n",
       "      <td>0.223267</td>\n",
       "      <td>0.073140</td>\n",
       "      <td>0.198914</td>\n",
       "      <td>0.848942</td>\n",
       "      <td>0.164661</td>\n",
       "      <td>0.181287</td>\n",
       "      <td>...</td>\n",
       "      <td>0.468690</td>\n",
       "      <td>0.026219</td>\n",
       "      <td>0.066770</td>\n",
       "      <td>0.002158</td>\n",
       "      <td>0.166415</td>\n",
       "      <td>0.436176</td>\n",
       "      <td>0.018498</td>\n",
       "      <td>0.023382</td>\n",
       "      <td>0.000777</td>\n",
       "      <td>0.184098</td>\n",
       "    </tr>\n",
       "    <tr>\n",
       "      <th>2014-04-15</th>\n",
       "      <td>0.625164</td>\n",
       "      <td>0.906953</td>\n",
       "      <td>0.000436</td>\n",
       "      <td>0.003557</td>\n",
       "      <td>0.285115</td>\n",
       "      <td>0.102149</td>\n",
       "      <td>0.147140</td>\n",
       "      <td>0.906211</td>\n",
       "      <td>0.138151</td>\n",
       "      <td>0.204678</td>\n",
       "      <td>...</td>\n",
       "      <td>0.449852</td>\n",
       "      <td>0.000000</td>\n",
       "      <td>0.080667</td>\n",
       "      <td>0.000000</td>\n",
       "      <td>0.175835</td>\n",
       "      <td>0.489175</td>\n",
       "      <td>0.000000</td>\n",
       "      <td>0.012754</td>\n",
       "      <td>0.001565</td>\n",
       "      <td>0.218631</td>\n",
       "    </tr>\n",
       "    <tr>\n",
       "      <th>2014-04-22</th>\n",
       "      <td>0.241153</td>\n",
       "      <td>0.821256</td>\n",
       "      <td>0.000282</td>\n",
       "      <td>0.002319</td>\n",
       "      <td>0.297887</td>\n",
       "      <td>0.095431</td>\n",
       "      <td>0.143725</td>\n",
       "      <td>0.927114</td>\n",
       "      <td>0.142921</td>\n",
       "      <td>0.210526</td>\n",
       "      <td>...</td>\n",
       "      <td>0.437118</td>\n",
       "      <td>0.013323</td>\n",
       "      <td>0.000000</td>\n",
       "      <td>0.000819</td>\n",
       "      <td>0.172480</td>\n",
       "      <td>0.447500</td>\n",
       "      <td>0.260987</td>\n",
       "      <td>0.004251</td>\n",
       "      <td>0.001994</td>\n",
       "      <td>0.277663</td>\n",
       "    </tr>\n",
       "    <tr>\n",
       "      <th>2014-05-27</th>\n",
       "      <td>0.467890</td>\n",
       "      <td>0.797808</td>\n",
       "      <td>0.000011</td>\n",
       "      <td>0.247947</td>\n",
       "      <td>0.230018</td>\n",
       "      <td>0.251778</td>\n",
       "      <td>0.167274</td>\n",
       "      <td>0.659762</td>\n",
       "      <td>0.036020</td>\n",
       "      <td>0.093567</td>\n",
       "      <td>...</td>\n",
       "      <td>0.495029</td>\n",
       "      <td>0.030540</td>\n",
       "      <td>0.021996</td>\n",
       "      <td>0.002488</td>\n",
       "      <td>0.136667</td>\n",
       "      <td>0.460958</td>\n",
       "      <td>0.229434</td>\n",
       "      <td>0.001417</td>\n",
       "      <td>0.615043</td>\n",
       "      <td>0.369533</td>\n",
       "    </tr>\n",
       "  </tbody>\n",
       "</table>\n",
       "<p>5 rows × 23 columns</p>\n",
       "</div>"
      ],
      "text/plain": [
       "            Gold_Change  Gold_Settle  Gold_Volume  \\\n",
       "Date                                                \n",
       "2014-03-25     0.678899     0.950871     0.000122   \n",
       "2014-04-01     0.322412     0.820158     0.118549   \n",
       "2014-04-15     0.625164     0.906953     0.000436   \n",
       "2014-04-22     0.241153     0.821256     0.000282   \n",
       "2014-05-27     0.467890     0.797808     0.000011   \n",
       "\n",
       "            Gold_Prev. Day Open Interest  Open Interest  Money Manager Shorts  \\\n",
       "Date                                                                            \n",
       "2014-03-25                      0.273350       0.431356              0.041291   \n",
       "2014-04-01                      0.090347       0.223267              0.073140   \n",
       "2014-04-15                      0.003557       0.285115              0.102149   \n",
       "2014-04-22                      0.002319       0.297887              0.095431   \n",
       "2014-05-27                      0.247947       0.230018              0.251778   \n",
       "\n",
       "            Money Manager Longs  Producer/Merchant/Processor/User Longs  \\\n",
       "Date                                                                      \n",
       "2014-03-25             0.236660                                1.000000   \n",
       "2014-04-01             0.198914                                0.848942   \n",
       "2014-04-15             0.147140                                0.906211   \n",
       "2014-04-22             0.143725                                0.927114   \n",
       "2014-05-27             0.167274                                0.659762   \n",
       "\n",
       "            Producer/Merchant/Processor/User Shorts  Ten_Yr_Futures_Change  \\\n",
       "Date                                                                         \n",
       "2014-03-25                                 0.238649               0.321637   \n",
       "2014-04-01                                 0.164661               0.181287   \n",
       "2014-04-15                                 0.138151               0.204678   \n",
       "2014-04-22                                 0.142921               0.210526   \n",
       "2014-05-27                                 0.036020               0.093567   \n",
       "\n",
       "                       ...               USD_Change  USD_Settle  USD_Volume  \\\n",
       "Date                   ...                                                    \n",
       "2014-03-25             ...                 0.535496    0.023244    0.165185   \n",
       "2014-04-01             ...                 0.468690    0.026219    0.066770   \n",
       "2014-04-15             ...                 0.449852    0.000000    0.080667   \n",
       "2014-04-22             ...                 0.437118    0.013323    0.000000   \n",
       "2014-05-27             ...                 0.495029    0.030540    0.021996   \n",
       "\n",
       "            USD_Wave  USD_Prev. Day Open Interest  ZAR_Change  ZAR_Settle  \\\n",
       "Date                                                                        \n",
       "2014-03-25  0.002060                     0.162933    0.464323    0.315043   \n",
       "2014-04-01  0.002158                     0.166415    0.436176    0.018498   \n",
       "2014-04-15  0.000000                     0.175835    0.489175    0.000000   \n",
       "2014-04-22  0.000819                     0.172480    0.447500    0.260987   \n",
       "2014-05-27  0.002488                     0.136667    0.460958    0.229434   \n",
       "\n",
       "            ZAR_Volume  ZAR_Wave  ZAR_Prev. Day Open Interest  \n",
       "Date                                                           \n",
       "2014-03-25    0.019839  0.000000                     0.205162  \n",
       "2014-04-01    0.023382  0.000777                     0.184098  \n",
       "2014-04-15    0.012754  0.001565                     0.218631  \n",
       "2014-04-22    0.004251  0.001994                     0.277663  \n",
       "2014-05-27    0.001417  0.615043                     0.369533  \n",
       "\n",
       "[5 rows x 23 columns]"
      ]
     },
     "execution_count": 15,
     "metadata": {},
     "output_type": "execute_result"
    }
   ],
   "source": [
    "normalized_df = scaler.fit_transform(df)\n",
    "normalized_df = pd.DataFrame(normalized_df,index=df.index,columns=df.columns)\n",
    "normalized_df.head()"
   ]
  },
  {
   "cell_type": "code",
   "execution_count": 16,
   "metadata": {},
   "outputs": [],
   "source": [
    "train = normalized_df.iloc[:int(.8*(len(normalized_df.index)))]\n",
    "test = normalized_df.iloc[int(.8*(len(normalized_df.index))):]"
   ]
  },
  {
   "cell_type": "code",
   "execution_count": 17,
   "metadata": {},
   "outputs": [
    {
     "name": "stderr",
     "output_type": "stream",
     "text": [
      "C:\\Users\\benel\\Anaconda3\\lib\\site-packages\\statsmodels\\tsa\\base\\tsa_model.py:225: ValueWarning: A date index has been provided, but it has no associated frequency information and so will be ignored when e.g. forecasting.\n",
      "  ' ignored when e.g. forecasting.', ValueWarning)\n"
     ]
    }
   ],
   "source": [
    "model = VAR(endog=train)"
   ]
  },
  {
   "cell_type": "markdown",
   "metadata": {},
   "source": [
    "# https://github.com/scikit-learn/scikit-learn/issues/2640\n",
    "\n",
    "There are roundoff errors with the model when flitering the data in this manner. This doesn't seem to offer an easy fix and is likely to fail like the other model.\n",
    "Not Worth Pursuing Further"
   ]
  },
  {
   "cell_type": "code",
   "execution_count": 18,
   "metadata": {},
   "outputs": [
    {
     "name": "stderr",
     "output_type": "stream",
     "text": [
      "C:\\Users\\benel\\Anaconda3\\lib\\site-packages\\statsmodels\\tsa\\vector_ar\\var_model.py:707: RuntimeWarning: divide by zero encountered in true_divide\n",
      "  omega = sse / df_resid\n",
      "C:\\Users\\benel\\Anaconda3\\lib\\site-packages\\statsmodels\\tsa\\vector_ar\\var_model.py:1316: RuntimeWarning: invalid value encountered in multiply\n",
      "  return self.sigma_u * self.df_resid / self.nobs\n"
     ]
    },
    {
     "ename": "ValueError",
     "evalue": "array must not contain infs or NaNs",
     "output_type": "error",
     "traceback": [
      "\u001b[1;31m---------------------------------------------------------------------------\u001b[0m",
      "\u001b[1;31mValueError\u001b[0m                                Traceback (most recent call last)",
      "\u001b[1;32m<ipython-input-18-14f38062061b>\u001b[0m in \u001b[0;36m<module>\u001b[1;34m\u001b[0m\n\u001b[1;32m----> 1\u001b[1;33m \u001b[0mfit_model\u001b[0m \u001b[1;33m=\u001b[0m \u001b[0mmodel\u001b[0m\u001b[1;33m.\u001b[0m\u001b[0mfit\u001b[0m\u001b[1;33m(\u001b[0m\u001b[0mmaxlags\u001b[0m\u001b[1;33m=\u001b[0m\u001b[1;36m15\u001b[0m\u001b[1;33m,\u001b[0m \u001b[0mic\u001b[0m\u001b[1;33m=\u001b[0m\u001b[1;34m'aic'\u001b[0m\u001b[1;33m)\u001b[0m\u001b[1;33m\u001b[0m\u001b[1;33m\u001b[0m\u001b[0m\n\u001b[0m",
      "\u001b[1;32m~\\Anaconda3\\lib\\site-packages\\statsmodels\\tsa\\vector_ar\\var_model.py\u001b[0m in \u001b[0;36mfit\u001b[1;34m(self, maxlags, method, ic, trend, verbose)\u001b[0m\n\u001b[0;32m    615\u001b[0m \u001b[1;33m\u001b[0m\u001b[0m\n\u001b[0;32m    616\u001b[0m         \u001b[1;32mif\u001b[0m \u001b[0mic\u001b[0m \u001b[1;32mis\u001b[0m \u001b[1;32mnot\u001b[0m \u001b[1;32mNone\u001b[0m\u001b[1;33m:\u001b[0m\u001b[1;33m\u001b[0m\u001b[1;33m\u001b[0m\u001b[0m\n\u001b[1;32m--> 617\u001b[1;33m             \u001b[0mselections\u001b[0m \u001b[1;33m=\u001b[0m \u001b[0mself\u001b[0m\u001b[1;33m.\u001b[0m\u001b[0mselect_order\u001b[0m\u001b[1;33m(\u001b[0m\u001b[0mmaxlags\u001b[0m\u001b[1;33m=\u001b[0m\u001b[0mmaxlags\u001b[0m\u001b[1;33m)\u001b[0m\u001b[1;33m\u001b[0m\u001b[1;33m\u001b[0m\u001b[0m\n\u001b[0m\u001b[0;32m    618\u001b[0m             \u001b[1;32mif\u001b[0m \u001b[1;32mnot\u001b[0m \u001b[0mhasattr\u001b[0m\u001b[1;33m(\u001b[0m\u001b[0mselections\u001b[0m\u001b[1;33m,\u001b[0m \u001b[0mic\u001b[0m\u001b[1;33m)\u001b[0m\u001b[1;33m:\u001b[0m\u001b[1;33m\u001b[0m\u001b[1;33m\u001b[0m\u001b[0m\n\u001b[0;32m    619\u001b[0m                 raise Exception(\"%s not recognized, must be among %s\"\n",
      "\u001b[1;32m~\\Anaconda3\\lib\\site-packages\\statsmodels\\tsa\\vector_ar\\var_model.py\u001b[0m in \u001b[0;36mselect_order\u001b[1;34m(self, maxlags, trend)\u001b[0m\n\u001b[0;32m    745\u001b[0m             \u001b[0mresult\u001b[0m \u001b[1;33m=\u001b[0m \u001b[0mself\u001b[0m\u001b[1;33m.\u001b[0m\u001b[0m_estimate_var\u001b[0m\u001b[1;33m(\u001b[0m\u001b[0mp\u001b[0m\u001b[1;33m,\u001b[0m \u001b[0moffset\u001b[0m\u001b[1;33m=\u001b[0m\u001b[0mmaxlags\u001b[0m\u001b[1;33m-\u001b[0m\u001b[0mp\u001b[0m\u001b[1;33m,\u001b[0m \u001b[0mtrend\u001b[0m\u001b[1;33m=\u001b[0m\u001b[0mtrend\u001b[0m\u001b[1;33m)\u001b[0m\u001b[1;33m\u001b[0m\u001b[1;33m\u001b[0m\u001b[0m\n\u001b[0;32m    746\u001b[0m \u001b[1;33m\u001b[0m\u001b[0m\n\u001b[1;32m--> 747\u001b[1;33m             \u001b[1;32mfor\u001b[0m \u001b[0mk\u001b[0m\u001b[1;33m,\u001b[0m \u001b[0mv\u001b[0m \u001b[1;32min\u001b[0m \u001b[0miteritems\u001b[0m\u001b[1;33m(\u001b[0m\u001b[0mresult\u001b[0m\u001b[1;33m.\u001b[0m\u001b[0minfo_criteria\u001b[0m\u001b[1;33m)\u001b[0m\u001b[1;33m:\u001b[0m\u001b[1;33m\u001b[0m\u001b[1;33m\u001b[0m\u001b[0m\n\u001b[0m\u001b[0;32m    748\u001b[0m                 \u001b[0mics\u001b[0m\u001b[1;33m[\u001b[0m\u001b[0mk\u001b[0m\u001b[1;33m]\u001b[0m\u001b[1;33m.\u001b[0m\u001b[0mappend\u001b[0m\u001b[1;33m(\u001b[0m\u001b[0mv\u001b[0m\u001b[1;33m)\u001b[0m\u001b[1;33m\u001b[0m\u001b[1;33m\u001b[0m\u001b[0m\n\u001b[0;32m    749\u001b[0m \u001b[1;33m\u001b[0m\u001b[0m\n",
      "\u001b[1;32m~\\Anaconda3\\lib\\site-packages\\statsmodels\\base\\wrapper.py\u001b[0m in \u001b[0;36m__getattribute__\u001b[1;34m(self, attr)\u001b[0m\n\u001b[0;32m     33\u001b[0m             \u001b[1;32mpass\u001b[0m\u001b[1;33m\u001b[0m\u001b[1;33m\u001b[0m\u001b[0m\n\u001b[0;32m     34\u001b[0m \u001b[1;33m\u001b[0m\u001b[0m\n\u001b[1;32m---> 35\u001b[1;33m         \u001b[0mobj\u001b[0m \u001b[1;33m=\u001b[0m \u001b[0mgetattr\u001b[0m\u001b[1;33m(\u001b[0m\u001b[0mresults\u001b[0m\u001b[1;33m,\u001b[0m \u001b[0mattr\u001b[0m\u001b[1;33m)\u001b[0m\u001b[1;33m\u001b[0m\u001b[1;33m\u001b[0m\u001b[0m\n\u001b[0m\u001b[0;32m     36\u001b[0m         \u001b[0mdata\u001b[0m \u001b[1;33m=\u001b[0m \u001b[0mresults\u001b[0m\u001b[1;33m.\u001b[0m\u001b[0mmodel\u001b[0m\u001b[1;33m.\u001b[0m\u001b[0mdata\u001b[0m\u001b[1;33m\u001b[0m\u001b[1;33m\u001b[0m\u001b[0m\n\u001b[0;32m     37\u001b[0m         \u001b[0mhow\u001b[0m \u001b[1;33m=\u001b[0m \u001b[0mself\u001b[0m\u001b[1;33m.\u001b[0m\u001b[0m_wrap_attrs\u001b[0m\u001b[1;33m.\u001b[0m\u001b[0mget\u001b[0m\u001b[1;33m(\u001b[0m\u001b[0mattr\u001b[0m\u001b[1;33m)\u001b[0m\u001b[1;33m\u001b[0m\u001b[1;33m\u001b[0m\u001b[0m\n",
      "\u001b[1;32m~\\Anaconda3\\lib\\site-packages\\statsmodels\\tools\\decorators.py\u001b[0m in \u001b[0;36m__get__\u001b[1;34m(self, obj, type)\u001b[0m\n\u001b[0;32m     95\u001b[0m         \u001b[1;32mif\u001b[0m \u001b[0m_cachedval\u001b[0m \u001b[1;32mis\u001b[0m \u001b[1;32mNone\u001b[0m\u001b[1;33m:\u001b[0m\u001b[1;33m\u001b[0m\u001b[1;33m\u001b[0m\u001b[0m\n\u001b[0;32m     96\u001b[0m             \u001b[1;31m# Call the \"fget\" function\u001b[0m\u001b[1;33m\u001b[0m\u001b[1;33m\u001b[0m\u001b[1;33m\u001b[0m\u001b[0m\n\u001b[1;32m---> 97\u001b[1;33m             \u001b[0m_cachedval\u001b[0m \u001b[1;33m=\u001b[0m \u001b[0mself\u001b[0m\u001b[1;33m.\u001b[0m\u001b[0mfget\u001b[0m\u001b[1;33m(\u001b[0m\u001b[0mobj\u001b[0m\u001b[1;33m)\u001b[0m\u001b[1;33m\u001b[0m\u001b[1;33m\u001b[0m\u001b[0m\n\u001b[0m\u001b[0;32m     98\u001b[0m             \u001b[1;31m# Set the attribute in obj\u001b[0m\u001b[1;33m\u001b[0m\u001b[1;33m\u001b[0m\u001b[1;33m\u001b[0m\u001b[0m\n\u001b[0;32m     99\u001b[0m             \u001b[1;31m# print(\"Setting %s in cache to %s\" % (name, _cachedval))\u001b[0m\u001b[1;33m\u001b[0m\u001b[1;33m\u001b[0m\u001b[1;33m\u001b[0m\u001b[0m\n",
      "\u001b[1;32m~\\Anaconda3\\lib\\site-packages\\statsmodels\\tsa\\vector_ar\\var_model.py\u001b[0m in \u001b[0;36minfo_criteria\u001b[1;34m(self)\u001b[0m\n\u001b[0;32m   2052\u001b[0m         \u001b[0mfree_params\u001b[0m \u001b[1;33m=\u001b[0m \u001b[0mlag_order\u001b[0m \u001b[1;33m*\u001b[0m \u001b[0mneqs\u001b[0m \u001b[1;33m**\u001b[0m \u001b[1;36m2\u001b[0m \u001b[1;33m+\u001b[0m \u001b[0mneqs\u001b[0m \u001b[1;33m*\u001b[0m \u001b[0mself\u001b[0m\u001b[1;33m.\u001b[0m\u001b[0mk_exog\u001b[0m\u001b[1;33m\u001b[0m\u001b[1;33m\u001b[0m\u001b[0m\n\u001b[0;32m   2053\u001b[0m \u001b[1;33m\u001b[0m\u001b[0m\n\u001b[1;32m-> 2054\u001b[1;33m         \u001b[0mld\u001b[0m \u001b[1;33m=\u001b[0m \u001b[0mlogdet_symm\u001b[0m\u001b[1;33m(\u001b[0m\u001b[0mself\u001b[0m\u001b[1;33m.\u001b[0m\u001b[0msigma_u_mle\u001b[0m\u001b[1;33m)\u001b[0m\u001b[1;33m\u001b[0m\u001b[1;33m\u001b[0m\u001b[0m\n\u001b[0m\u001b[0;32m   2055\u001b[0m \u001b[1;33m\u001b[0m\u001b[0m\n\u001b[0;32m   2056\u001b[0m         \u001b[1;31m# See Lutkepohl pp. 146-150\u001b[0m\u001b[1;33m\u001b[0m\u001b[1;33m\u001b[0m\u001b[1;33m\u001b[0m\u001b[0m\n",
      "\u001b[1;32m~\\Anaconda3\\lib\\site-packages\\statsmodels\\tools\\linalg.py\u001b[0m in \u001b[0;36mlogdet_symm\u001b[1;34m(m, check_symm)\u001b[0m\n\u001b[0;32m    217\u001b[0m         \u001b[1;32mif\u001b[0m \u001b[1;32mnot\u001b[0m \u001b[0mnp\u001b[0m\u001b[1;33m.\u001b[0m\u001b[0mall\u001b[0m\u001b[1;33m(\u001b[0m\u001b[0mm\u001b[0m \u001b[1;33m==\u001b[0m \u001b[0mm\u001b[0m\u001b[1;33m.\u001b[0m\u001b[0mT\u001b[0m\u001b[1;33m)\u001b[0m\u001b[1;33m:\u001b[0m  \u001b[1;31m# would be nice to short-circuit check\u001b[0m\u001b[1;33m\u001b[0m\u001b[1;33m\u001b[0m\u001b[0m\n\u001b[0;32m    218\u001b[0m             \u001b[1;32mraise\u001b[0m \u001b[0mValueError\u001b[0m\u001b[1;33m(\u001b[0m\u001b[1;34m\"m is not symmetric.\"\u001b[0m\u001b[1;33m)\u001b[0m\u001b[1;33m\u001b[0m\u001b[1;33m\u001b[0m\u001b[0m\n\u001b[1;32m--> 219\u001b[1;33m     \u001b[0mc\u001b[0m\u001b[1;33m,\u001b[0m \u001b[0m_\u001b[0m \u001b[1;33m=\u001b[0m \u001b[0mlinalg\u001b[0m\u001b[1;33m.\u001b[0m\u001b[0mcho_factor\u001b[0m\u001b[1;33m(\u001b[0m\u001b[0mm\u001b[0m\u001b[1;33m,\u001b[0m \u001b[0mlower\u001b[0m\u001b[1;33m=\u001b[0m\u001b[1;32mTrue\u001b[0m\u001b[1;33m)\u001b[0m\u001b[1;33m\u001b[0m\u001b[1;33m\u001b[0m\u001b[0m\n\u001b[0m\u001b[0;32m    220\u001b[0m     \u001b[1;32mreturn\u001b[0m \u001b[1;36m2\u001b[0m\u001b[1;33m*\u001b[0m\u001b[0mnp\u001b[0m\u001b[1;33m.\u001b[0m\u001b[0msum\u001b[0m\u001b[1;33m(\u001b[0m\u001b[0mnp\u001b[0m\u001b[1;33m.\u001b[0m\u001b[0mlog\u001b[0m\u001b[1;33m(\u001b[0m\u001b[0mc\u001b[0m\u001b[1;33m.\u001b[0m\u001b[0mdiagonal\u001b[0m\u001b[1;33m(\u001b[0m\u001b[1;33m)\u001b[0m\u001b[1;33m)\u001b[0m\u001b[1;33m)\u001b[0m\u001b[1;33m\u001b[0m\u001b[1;33m\u001b[0m\u001b[0m\n\u001b[0;32m    221\u001b[0m \u001b[1;33m\u001b[0m\u001b[0m\n",
      "\u001b[1;32m~\\Anaconda3\\lib\\site-packages\\scipy\\linalg\\decomp_cholesky.py\u001b[0m in \u001b[0;36mcho_factor\u001b[1;34m(a, lower, overwrite_a, check_finite)\u001b[0m\n\u001b[0;32m    153\u001b[0m     \"\"\"\n\u001b[0;32m    154\u001b[0m     c, lower = _cholesky(a, lower=lower, overwrite_a=overwrite_a, clean=False,\n\u001b[1;32m--> 155\u001b[1;33m                          check_finite=check_finite)\n\u001b[0m\u001b[0;32m    156\u001b[0m     \u001b[1;32mreturn\u001b[0m \u001b[0mc\u001b[0m\u001b[1;33m,\u001b[0m \u001b[0mlower\u001b[0m\u001b[1;33m\u001b[0m\u001b[1;33m\u001b[0m\u001b[0m\n\u001b[0;32m    157\u001b[0m \u001b[1;33m\u001b[0m\u001b[0m\n",
      "\u001b[1;32m~\\Anaconda3\\lib\\site-packages\\scipy\\linalg\\decomp_cholesky.py\u001b[0m in \u001b[0;36m_cholesky\u001b[1;34m(a, lower, overwrite_a, clean, check_finite)\u001b[0m\n\u001b[0;32m     17\u001b[0m     \u001b[1;34m\"\"\"Common code for cholesky() and cho_factor().\"\"\"\u001b[0m\u001b[1;33m\u001b[0m\u001b[1;33m\u001b[0m\u001b[0m\n\u001b[0;32m     18\u001b[0m \u001b[1;33m\u001b[0m\u001b[0m\n\u001b[1;32m---> 19\u001b[1;33m     \u001b[0ma1\u001b[0m \u001b[1;33m=\u001b[0m \u001b[0masarray_chkfinite\u001b[0m\u001b[1;33m(\u001b[0m\u001b[0ma\u001b[0m\u001b[1;33m)\u001b[0m \u001b[1;32mif\u001b[0m \u001b[0mcheck_finite\u001b[0m \u001b[1;32melse\u001b[0m \u001b[0masarray\u001b[0m\u001b[1;33m(\u001b[0m\u001b[0ma\u001b[0m\u001b[1;33m)\u001b[0m\u001b[1;33m\u001b[0m\u001b[1;33m\u001b[0m\u001b[0m\n\u001b[0m\u001b[0;32m     20\u001b[0m     \u001b[0ma1\u001b[0m \u001b[1;33m=\u001b[0m \u001b[0matleast_2d\u001b[0m\u001b[1;33m(\u001b[0m\u001b[0ma1\u001b[0m\u001b[1;33m)\u001b[0m\u001b[1;33m\u001b[0m\u001b[1;33m\u001b[0m\u001b[0m\n\u001b[0;32m     21\u001b[0m \u001b[1;33m\u001b[0m\u001b[0m\n",
      "\u001b[1;32m~\\Anaconda3\\lib\\site-packages\\numpy\\lib\\function_base.py\u001b[0m in \u001b[0;36masarray_chkfinite\u001b[1;34m(a, dtype, order)\u001b[0m\n\u001b[0;32m    459\u001b[0m     \u001b[1;32mif\u001b[0m \u001b[0ma\u001b[0m\u001b[1;33m.\u001b[0m\u001b[0mdtype\u001b[0m\u001b[1;33m.\u001b[0m\u001b[0mchar\u001b[0m \u001b[1;32min\u001b[0m \u001b[0mtypecodes\u001b[0m\u001b[1;33m[\u001b[0m\u001b[1;34m'AllFloat'\u001b[0m\u001b[1;33m]\u001b[0m \u001b[1;32mand\u001b[0m \u001b[1;32mnot\u001b[0m \u001b[0mnp\u001b[0m\u001b[1;33m.\u001b[0m\u001b[0misfinite\u001b[0m\u001b[1;33m(\u001b[0m\u001b[0ma\u001b[0m\u001b[1;33m)\u001b[0m\u001b[1;33m.\u001b[0m\u001b[0mall\u001b[0m\u001b[1;33m(\u001b[0m\u001b[1;33m)\u001b[0m\u001b[1;33m:\u001b[0m\u001b[1;33m\u001b[0m\u001b[1;33m\u001b[0m\u001b[0m\n\u001b[0;32m    460\u001b[0m         raise ValueError(\n\u001b[1;32m--> 461\u001b[1;33m             \"array must not contain infs or NaNs\")\n\u001b[0m\u001b[0;32m    462\u001b[0m     \u001b[1;32mreturn\u001b[0m \u001b[0ma\u001b[0m\u001b[1;33m\u001b[0m\u001b[1;33m\u001b[0m\u001b[0m\n\u001b[0;32m    463\u001b[0m \u001b[1;33m\u001b[0m\u001b[0m\n",
      "\u001b[1;31mValueError\u001b[0m: array must not contain infs or NaNs"
     ]
    }
   ],
   "source": [
    "fit_model = model.fit(maxlags=15, ic='aic')"
   ]
  },
  {
   "cell_type": "code",
   "execution_count": null,
   "metadata": {},
   "outputs": [],
   "source": []
  }
 ],
 "metadata": {
  "kernelspec": {
   "display_name": "Python 3",
   "language": "python",
   "name": "python3"
  },
  "language_info": {
   "codemirror_mode": {
    "name": "ipython",
    "version": 3
   },
   "file_extension": ".py",
   "mimetype": "text/x-python",
   "name": "python",
   "nbconvert_exporter": "python",
   "pygments_lexer": "ipython3",
   "version": "3.7.1"
  }
 },
 "nbformat": 4,
 "nbformat_minor": 2
}
