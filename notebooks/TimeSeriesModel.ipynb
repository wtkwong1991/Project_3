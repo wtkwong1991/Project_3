{
 "cells": [
  {
   "cell_type": "code",
   "execution_count": 1,
   "metadata": {},
   "outputs": [],
   "source": [
    " %matplotlib inline\n",
    "import matplotlib.pyplot as plt\n",
    "import numpy as np\n",
    "import pandas as pd"
   ]
  },
  {
   "cell_type": "code",
   "execution_count": 2,
   "metadata": {},
   "outputs": [
    {
     "data": {
      "text/html": [
       "<div>\n",
       "<style scoped>\n",
       "    .dataframe tbody tr th:only-of-type {\n",
       "        vertical-align: middle;\n",
       "    }\n",
       "\n",
       "    .dataframe tbody tr th {\n",
       "        vertical-align: top;\n",
       "    }\n",
       "\n",
       "    .dataframe thead th {\n",
       "        text-align: right;\n",
       "    }\n",
       "</style>\n",
       "<table border=\"1\" class=\"dataframe\">\n",
       "  <thead>\n",
       "    <tr style=\"text-align: right;\">\n",
       "      <th></th>\n",
       "      <th>Business_Week</th>\n",
       "      <th>Week_Count</th>\n",
       "      <th>Gold_Change</th>\n",
       "      <th>Gold_Settle</th>\n",
       "      <th>Gold_Volume</th>\n",
       "      <th>Gold_Prev. Day Open Interest</th>\n",
       "      <th>Date</th>\n",
       "      <th>Open Interest</th>\n",
       "      <th>Money Manager Shorts</th>\n",
       "      <th>Money Manager Longs</th>\n",
       "      <th>...</th>\n",
       "      <th>USD_Change</th>\n",
       "      <th>USD_Settle</th>\n",
       "      <th>USD_Volume</th>\n",
       "      <th>USD_Wave</th>\n",
       "      <th>USD_Prev. Day Open Interest</th>\n",
       "      <th>ZAR_Change</th>\n",
       "      <th>ZAR_Settle</th>\n",
       "      <th>ZAR_Volume</th>\n",
       "      <th>ZAR_Wave</th>\n",
       "      <th>ZAR_Prev. Day Open Interest</th>\n",
       "    </tr>\n",
       "  </thead>\n",
       "  <tbody>\n",
       "    <tr>\n",
       "      <th>0</th>\n",
       "      <td>[2006-06-07, 2006-06-13]</td>\n",
       "      <td>0</td>\n",
       "      <td>0.0</td>\n",
       "      <td>602.80</td>\n",
       "      <td>324.80000</td>\n",
       "      <td>189517.8</td>\n",
       "      <td>6/13/2006</td>\n",
       "      <td>382474</td>\n",
       "      <td>30916</td>\n",
       "      <td>103211</td>\n",
       "      <td>...</td>\n",
       "      <td>1.760</td>\n",
       "      <td>85.7620</td>\n",
       "      <td>7364.2</td>\n",
       "      <td>NaN</td>\n",
       "      <td>38753.4</td>\n",
       "      <td>0.0760</td>\n",
       "      <td>6.7790</td>\n",
       "      <td>65.00</td>\n",
       "      <td>NaN</td>\n",
       "      <td>2332.40</td>\n",
       "    </tr>\n",
       "    <tr>\n",
       "      <th>1</th>\n",
       "      <td>[2006-06-14, 2006-06-20]</td>\n",
       "      <td>1</td>\n",
       "      <td>0.0</td>\n",
       "      <td>570.50</td>\n",
       "      <td>78.40000</td>\n",
       "      <td>191302.8</td>\n",
       "      <td>6/20/2006</td>\n",
       "      <td>390281</td>\n",
       "      <td>30963</td>\n",
       "      <td>94632</td>\n",
       "      <td>...</td>\n",
       "      <td>0.013</td>\n",
       "      <td>86.2112</td>\n",
       "      <td>772.6</td>\n",
       "      <td>NaN</td>\n",
       "      <td>37679.6</td>\n",
       "      <td>0.1175</td>\n",
       "      <td>6.9283</td>\n",
       "      <td>45.00</td>\n",
       "      <td>NaN</td>\n",
       "      <td>2276.80</td>\n",
       "    </tr>\n",
       "    <tr>\n",
       "      <th>2</th>\n",
       "      <td>[2006-06-21, 2006-06-27]</td>\n",
       "      <td>2</td>\n",
       "      <td>0.0</td>\n",
       "      <td>584.18</td>\n",
       "      <td>51.80000</td>\n",
       "      <td>189599.0</td>\n",
       "      <td>6/27/2006</td>\n",
       "      <td>384321</td>\n",
       "      <td>32287</td>\n",
       "      <td>91042</td>\n",
       "      <td>...</td>\n",
       "      <td>0.340</td>\n",
       "      <td>86.0000</td>\n",
       "      <td>5056.2</td>\n",
       "      <td>NaN</td>\n",
       "      <td>23433.4</td>\n",
       "      <td>0.1715</td>\n",
       "      <td>7.4125</td>\n",
       "      <td>359.25</td>\n",
       "      <td>NaN</td>\n",
       "      <td>2395.75</td>\n",
       "    </tr>\n",
       "    <tr>\n",
       "      <th>3</th>\n",
       "      <td>[2006-06-28, 2006-07-04]</td>\n",
       "      <td>3</td>\n",
       "      <td>0.0</td>\n",
       "      <td>594.40</td>\n",
       "      <td>31923.66667</td>\n",
       "      <td>297778.0</td>\n",
       "      <td>7/3/2006</td>\n",
       "      <td>392868</td>\n",
       "      <td>30452</td>\n",
       "      <td>92545</td>\n",
       "      <td>...</td>\n",
       "      <td>-1.300</td>\n",
       "      <td>85.2640</td>\n",
       "      <td>2935.2</td>\n",
       "      <td>NaN</td>\n",
       "      <td>19682.8</td>\n",
       "      <td>-0.2920</td>\n",
       "      <td>7.1685</td>\n",
       "      <td>35.60</td>\n",
       "      <td>NaN</td>\n",
       "      <td>2007.00</td>\n",
       "    </tr>\n",
       "    <tr>\n",
       "      <th>4</th>\n",
       "      <td>[2006-07-05, 2006-07-11]</td>\n",
       "      <td>4</td>\n",
       "      <td>0.0</td>\n",
       "      <td>634.00</td>\n",
       "      <td>43180.20000</td>\n",
       "      <td>253799.8</td>\n",
       "      <td>7/11/2006</td>\n",
       "      <td>427008</td>\n",
       "      <td>27624</td>\n",
       "      <td>104213</td>\n",
       "      <td>...</td>\n",
       "      <td>0.230</td>\n",
       "      <td>85.0220</td>\n",
       "      <td>2823.0</td>\n",
       "      <td>NaN</td>\n",
       "      <td>19415.6</td>\n",
       "      <td>0.0960</td>\n",
       "      <td>7.1820</td>\n",
       "      <td>186.20</td>\n",
       "      <td>NaN</td>\n",
       "      <td>2227.00</td>\n",
       "    </tr>\n",
       "  </tbody>\n",
       "</table>\n",
       "<p>5 rows × 24 columns</p>\n",
       "</div>"
      ],
      "text/plain": [
       "              Business_Week  Week_Count  Gold_Change  Gold_Settle  \\\n",
       "0  [2006-06-07, 2006-06-13]           0          0.0       602.80   \n",
       "1  [2006-06-14, 2006-06-20]           1          0.0       570.50   \n",
       "2  [2006-06-21, 2006-06-27]           2          0.0       584.18   \n",
       "3  [2006-06-28, 2006-07-04]           3          0.0       594.40   \n",
       "4  [2006-07-05, 2006-07-11]           4          0.0       634.00   \n",
       "\n",
       "   Gold_Volume  Gold_Prev. Day Open Interest       Date  Open Interest  \\\n",
       "0    324.80000                      189517.8  6/13/2006         382474   \n",
       "1     78.40000                      191302.8  6/20/2006         390281   \n",
       "2     51.80000                      189599.0  6/27/2006         384321   \n",
       "3  31923.66667                      297778.0   7/3/2006         392868   \n",
       "4  43180.20000                      253799.8  7/11/2006         427008   \n",
       "\n",
       "   Money Manager Shorts  Money Manager Longs             ...               \\\n",
       "0                 30916               103211             ...                \n",
       "1                 30963                94632             ...                \n",
       "2                 32287                91042             ...                \n",
       "3                 30452                92545             ...                \n",
       "4                 27624               104213             ...                \n",
       "\n",
       "   USD_Change  USD_Settle  USD_Volume  USD_Wave  USD_Prev. Day Open Interest  \\\n",
       "0       1.760     85.7620      7364.2       NaN                      38753.4   \n",
       "1       0.013     86.2112       772.6       NaN                      37679.6   \n",
       "2       0.340     86.0000      5056.2       NaN                      23433.4   \n",
       "3      -1.300     85.2640      2935.2       NaN                      19682.8   \n",
       "4       0.230     85.0220      2823.0       NaN                      19415.6   \n",
       "\n",
       "   ZAR_Change  ZAR_Settle  ZAR_Volume  ZAR_Wave  ZAR_Prev. Day Open Interest  \n",
       "0      0.0760      6.7790       65.00       NaN                      2332.40  \n",
       "1      0.1175      6.9283       45.00       NaN                      2276.80  \n",
       "2      0.1715      7.4125      359.25       NaN                      2395.75  \n",
       "3     -0.2920      7.1685       35.60       NaN                      2007.00  \n",
       "4      0.0960      7.1820      186.20       NaN                      2227.00  \n",
       "\n",
       "[5 rows x 24 columns]"
      ]
     },
     "execution_count": 2,
     "metadata": {},
     "output_type": "execute_result"
    }
   ],
   "source": [
    " # Read the csv file into a pandas DataFrame\n",
    "\n",
    "data = pd.read_csv('../data/csv/Gold_DataRF.csv')\n",
    "data.head()"
   ]
  },
  {
   "cell_type": "code",
   "execution_count": 5,
   "metadata": {},
   "outputs": [
    {
     "name": "stdout",
     "output_type": "stream",
     "text": [
      "(684, 3) (684, 1)\n"
     ]
    }
   ],
   "source": [
    "X = data[[\"Gold_Volume\", \"USD_Change\", \"Open Interest\"]]\n",
    "y = data[\"Gold_Settle\"].values.reshape(-1, 1)\n",
    "print(X.shape, y.shape)"
   ]
  },
  {
   "cell_type": "code",
   "execution_count": 6,
   "metadata": {},
   "outputs": [],
   "source": [
    "# Use train_test_split to create training and testing data\n",
    "\n",
    "### BEGIN SOLUTION\n",
    "from sklearn.model_selection import train_test_split\n",
    "\n",
    "X_train, X_test, y_train, y_test = train_test_split(X, y, random_state=42)\n",
    "\n",
    "### END SOLUTION"
   ]
  },
  {
   "cell_type": "code",
   "execution_count": 7,
   "metadata": {},
   "outputs": [],
   "source": [
    "# Create the model using LinearRegression\n",
    "\n",
    "### BEGIN SOLUTION\n",
    "from sklearn.linear_model import LinearRegression\n",
    "model = LinearRegression()\n",
    "### END SOLUTION"
   ]
  },
  {
   "cell_type": "code",
   "execution_count": 8,
   "metadata": {},
   "outputs": [
    {
     "name": "stdout",
     "output_type": "stream",
     "text": [
      "Training Score: 0.5339048414657301\n",
      "Testing Score: 0.45959510639888945\n"
     ]
    }
   ],
   "source": [
    "# Fit the model to the training data and calculate the scores for the training and testing data\n",
    "\n",
    "### BEGIN SOLUTION\n",
    "model.fit(X_train, y_train)\n",
    "training_score = model.score(X_train, y_train)\n",
    "testing_score = model.score(X_test, y_test)\n",
    "\n",
    "### END SOLUTION \n",
    "\n",
    "print(f\"Training Score: {training_score}\")\n",
    "print(f\"Testing Score: {testing_score}\")"
   ]
  },
  {
   "cell_type": "code",
   "execution_count": 12,
   "metadata": {},
   "outputs": [
    {
     "data": {
      "text/plain": [
       "Text(0.5, 1.0, 'Residual Plot')"
      ]
     },
     "execution_count": 12,
     "metadata": {},
     "output_type": "execute_result"
    },
    {
     "data": {
      "image/png": "[encoded data removed]",
      "text/plain": [
       "<Figure size 432x288 with 1 Axes>"
      ]
     },
     "metadata": {
      "needs_background": "light"
     },
     "output_type": "display_data"
    }
   ],
   "source": [
    " # Plot the Residuals for the Training and Testing data\n",
    "\n",
    "### BEGIN SOLUTION\n",
    "plt.scatter(model.predict(X_train), model.predict(X_train) - y_train, c=\"red\", label=\"Training Data\")\n",
    "plt.scatter(model.predict(X_test), model.predict(X_test) - y_test, c=\"blue\", label=\"Testing Data\")\n",
    "plt.legend()\n",
    "plt.hlines(y=0, xmin=y.min(), xmax=y.max())\n",
    "plt.title(\"Residual Plot\")"
   ]
  },
  {
   "cell_type": "code",
   "execution_count": null,
   "metadata": {},
   "outputs": [],
   "source": []
  },
  {
   "cell_type": "code",
   "execution_count": null,
   "metadata": {},
   "outputs": [],
   "source": []
  }
 ],
 "metadata": {
  "kernelspec": {
   "display_name": "Python 3",
   "language": "python",
   "name": "python3"
  },
  "language_info": {
   "codemirror_mode": {
    "name": "ipython",
    "version": 3
   },
   "file_extension": ".py",
   "mimetype": "text/x-python",
   "name": "python",
   "nbconvert_exporter": "python",
   "pygments_lexer": "ipython3",
   "version": "3.7.1"
  }
 },
 "nbformat": 4,
 "nbformat_minor": 2
}
