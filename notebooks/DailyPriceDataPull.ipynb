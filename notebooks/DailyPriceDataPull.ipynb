{
 "cells": [
  {
   "cell_type": "code",
   "execution_count": 23,
   "metadata": {},
   "outputs": [],
   "source": [
    "import requests\n",
    "import json\n",
    "from pandas.io.json import json_normalize\n",
    "import pandas as pd\n",
    "from API_Keys import quandl\n",
    "from datetime import datetime, timedelta"
   ]
  },
  {
   "cell_type": "code",
   "execution_count": 24,
   "metadata": {},
   "outputs": [],
   "source": [
    "# Group 1, keep Change, Settle, Volume, Previous Day Open Interest\n",
    "GoldURL = f\"https://www.quandl.com/api/v3/datasets/CHRIS/CME_GC1.json?api_key={quandl}\"\n",
    "SilverURL = f\"https://www.quandl.com/api/v3/datasets/CHRIS/CME_SI1.json?api_key={quandl}\"\n",
    "PalladiumURL = f\"https://www.quandl.com/api/v3/datasets/CHRIS/CME_PA1.json?api_key={quandl}\"\n",
    "PlatinumURL = f\"https://www.quandl.com/api/v3/datasets/CHRIS/CME_PL1.json?api_key={quandl}\""
   ]
  },
  {
   "cell_type": "code",
   "execution_count": 31,
   "metadata": {},
   "outputs": [],
   "source": [
    "response = requests.get(GoldURL).json()\n",
    "\n",
    "df = pd.DataFrame.from_dict(response, orient='columns')"
   ]
  },
  {
   "cell_type": "code",
   "execution_count": 32,
   "metadata": {},
   "outputs": [
    {
     "data": {
      "text/html": [
       "<div>\n",
       "<style scoped>\n",
       "    .dataframe tbody tr th:only-of-type {\n",
       "        vertical-align: middle;\n",
       "    }\n",
       "\n",
       "    .dataframe tbody tr th {\n",
       "        vertical-align: top;\n",
       "    }\n",
       "\n",
       "    .dataframe thead th {\n",
       "        text-align: right;\n",
       "    }\n",
       "</style>\n",
       "<table border=\"1\" class=\"dataframe\">\n",
       "  <thead>\n",
       "    <tr style=\"text-align: right;\">\n",
       "      <th></th>\n",
       "      <th>dataset</th>\n",
       "    </tr>\n",
       "  </thead>\n",
       "  <tbody>\n",
       "    <tr>\n",
       "      <th>collapse</th>\n",
       "      <td>None</td>\n",
       "    </tr>\n",
       "    <tr>\n",
       "      <th>column_index</th>\n",
       "      <td>None</td>\n",
       "    </tr>\n",
       "    <tr>\n",
       "      <th>column_names</th>\n",
       "      <td>[Date, Open, High, Low, Last, Change, Settle, ...</td>\n",
       "    </tr>\n",
       "    <tr>\n",
       "      <th>data</th>\n",
       "      <td>[[2019-07-26, 1414.9, 1424.8, 1412.9, 1418.5, ...</td>\n",
       "    </tr>\n",
       "    <tr>\n",
       "      <th>database_code</th>\n",
       "      <td>CHRIS</td>\n",
       "    </tr>\n",
       "  </tbody>\n",
       "</table>\n",
       "</div>"
      ],
      "text/plain": [
       "                                                         dataset\n",
       "collapse                                                    None\n",
       "column_index                                                None\n",
       "column_names   [Date, Open, High, Low, Last, Change, Settle, ...\n",
       "data           [[2019-07-26, 1414.9, 1424.8, 1412.9, 1418.5, ...\n",
       "database_code                                              CHRIS"
      ]
     },
     "execution_count": 32,
     "metadata": {},
     "output_type": "execute_result"
    }
   ],
   "source": [
    "df.head()"
   ]
  },
  {
   "cell_type": "code",
   "execution_count": 33,
   "metadata": {},
   "outputs": [],
   "source": [
    "url_list = [GoldURL, SilverURL, PlatinumURL, PalladiumURL]"
   ]
  },
  {
   "cell_type": "code",
   "execution_count": 34,
   "metadata": {},
   "outputs": [],
   "source": [
    "info_list = [get(url).json() for url in url_list]"
   ]
  },
  {
   "cell_type": "code",
   "execution_count": 62,
   "metadata": {},
   "outputs": [],
   "source": [
    "GoldDF = pd.DataFrame(info_list[0][\"dataset\"][\"data\"],columns=info_list[0][\"dataset\"][\"column_names\"])\n",
    "SilverDF = pd.DataFrame(info_list[1][\"dataset\"][\"data\"],columns=info_list[1][\"dataset\"][\"column_names\"])\n",
    "PlatinumDF = pd.DataFrame(info_list[2][\"dataset\"][\"data\"],columns=info_list[2][\"dataset\"][\"column_names\"])\n",
    "PalladiumDF = pd.DataFrame(info_list[3][\"dataset\"][\"data\"],columns=info_list[3][\"dataset\"][\"column_names\"])"
   ]
  },
  {
   "cell_type": "code",
   "execution_count": 63,
   "metadata": {},
   "outputs": [],
   "source": [
    "GoldDF.to_csv(\"../data/csv/GoldPrices.csv\")\n",
    "SilverDF.to_csv(\"../data/csv/SilverPrices.csv\")\n",
    "PlatinumDF.to_csv(\"../data/csv/PlatinumPrices.csv\")\n",
    "PalladiumDF.to_csv(\"../data/csv/PalladiumPrices.csv\")"
   ]
  },
  {
   "cell_type": "code",
   "execution_count": null,
   "metadata": {},
   "outputs": [],
   "source": []
  }
 ],
 "metadata": {
  "kernelspec": {
   "display_name": "Python 3",
   "language": "python",
   "name": "python3"
  },
  "language_info": {
   "codemirror_mode": {
    "name": "ipython",
    "version": 3
   },
   "file_extension": ".py",
   "mimetype": "text/x-python",
   "name": "python",
   "nbconvert_exporter": "python",
   "pygments_lexer": "ipython3",
   "version": "3.7.1"
  }
 },
 "nbformat": 4,
 "nbformat_minor": 2
}
